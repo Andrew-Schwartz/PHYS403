{
 "cells": [
  {
   "cell_type": "markdown",
   "metadata": {},
   "source": [
    "# Numerical Calculation of Hessian Matrix\n",
    "\n",
    "This is a simple example of a linear fit using the `L-BFGS-B` bounded minimizer.\n",
    "\n",
    "The `L-BFGS-B` algorithm is very handy because it allows you to specify parameter bounds during minimization. However, the inverse Hessian matrix returned by  `scipy.optimize.minimize` when using this algorithm can be:\n",
    "1. Tricky to use, because it's not always returned as a numpy array.\n",
    "1. Relatively inaccurate for the purposes of estimating uncertainties.\n",
    "\n",
    "Remember that we want to compute the uncertainty with respect to a parameter $x$ using\n",
    "\n",
    "$$\n",
    "\\sigma_x = \\left(-\\frac{\\partial^2\\log{\\mathcal{L}}}{\\partial x^2}\\right)^{-1/2}=\\sqrt{-\\left(H^{-1}\\right)_{xx}}.\n",
    "$$\n",
    "\n",
    "This notebook demonstrates how to numerically compute the Hessian if we don't trust or use the values directly from the minimizer."
   ]
  },
  {
   "cell_type": "code",
   "execution_count": 2,
   "metadata": {
    "ExecuteTime": {
     "end_time": "2024-03-22T01:22:51.592394Z",
     "start_time": "2024-03-22T01:22:50.170575Z"
    }
   },
   "outputs": [],
   "source": [
    "import numpy as np\n",
    "from scipy.optimize import minimize\n",
    "\n",
    "import numdifftools as ndt\n",
    "\n",
    "import matplotlib as mpl\n",
    "import matplotlib.pyplot as plt\n",
    "\n",
    "mpl.rc('font', size=18)\n",
    "mpl.rc('text', usetex=True)\n",
    "mpl.rc('font', family='serif', serif='palatino')"
   ]
  },
  {
   "cell_type": "markdown",
   "metadata": {},
   "source": [
    "## Model Generation\n",
    "\n",
    "Generate a linear data set with uncertainties distributed according to $\\mathcal{N}(0.1,0.5)$. The default intercept $a$, slope $b$, and underestimate fraction $f$ are defined below."
   ]
  },
  {
   "cell_type": "code",
   "execution_count": 3,
   "metadata": {
    "ExecuteTime": {
     "end_time": "2024-03-22T01:22:56.880920Z",
     "start_time": "2024-03-22T01:22:56.854270Z"
    }
   },
   "outputs": [],
   "source": [
    "np.random.seed(123)\n",
    "\n",
    "# Choose the \"true\" parameters.\n",
    "a_true = 4.294\n",
    "b_true = -0.9594\n",
    "f_true = 0.534\n",
    "\n",
    "# Generate some synthetic data from the model.\n",
    "N = 50\n",
    "x = np.sort(10 * np.random.rand(N))\n",
    "yerr = 0.1 + 0.5 * np.random.rand(N)\n",
    "y = a_true + b_true*x\n",
    "y += np.abs(f_true * y) * np.random.randn(N)\n",
    "y += yerr * np.random.randn(N)"
   ]
  },
  {
   "cell_type": "code",
   "execution_count": 5,
   "metadata": {
    "ExecuteTime": {
     "end_time": "2024-03-22T01:24:30.624213Z",
     "start_time": "2024-03-22T01:24:30.441942Z"
    }
   },
   "outputs": [
    {
     "data": {
      "text/plain": "<Figure size 800x400 with 1 Axes>",
      "image/png": "[encoded data removed]"
     },
     "metadata": {},
     "output_type": "display_data"
    }
   ],
   "source": [
    "fig, ax = plt.subplots(1,1, figsize=(8,4), tight_layout=True)\n",
    "\n",
    "ax.errorbar(x, y, yerr=yerr, fmt='.k', capsize=0, lw=1)\n",
    "\n",
    "x0 = np.linspace(0, 10, 500)\n",
    "ax.plot(x0, a_true + b_true*x0, 'k', alpha=0.3, lw=3)\n",
    "ax.set(xlim=(0,10), xlabel='$x$', ylabel='$y$');\n",
    "\n",
    "# fig.savefig('linear-model.pdf')"
   ]
  },
  {
   "cell_type": "markdown",
   "metadata": {},
   "source": [
    "## Maximum Likelihood\n",
    "\n",
    "Fit with a Gaussian log-likelihood that includes the fractional underestimate in the variance of each point:\n",
    "\n",
    "$$\n",
    "\\ln{\\mathcal{L}} = \\ln{p(y|a,b,f)} =\n",
    "-\\frac{1}{2}\\sum_{i=1}^N \\left[\\left(\\frac{y_i-a-bx_i}{s_i}\\right)^2 + \\ln{(2\\pi s_i^2)}\\right],\n",
    "$$\n",
    "where\n",
    "\n",
    "$$\n",
    "s_i^2 = \\sigma_i^2 + f^2(a + bx_i)^2.\n",
    "$$\n",
    "Note that in the log-likelihood the model parameter will actually be $\\ln{f}$."
   ]
  },
  {
   "cell_type": "code",
   "execution_count": 4,
   "metadata": {},
   "outputs": [],
   "source": [
    "# Log-likelihood\n",
    "def loglike(theta):\n",
    "    a, b, lnf = theta\n",
    "    model = a + b*x\n",
    "    inv_sigma2 = 1.0 / (yerr**2 + model**2 * np.exp(2 * lnf))\n",
    "    \n",
    "    return -0.5 * (np.sum((y-model)**2 * inv_sigma2 - np.log(inv_sigma2)))\n",
    "\n",
    "# Define a negative LL for minimizers.\n",
    "nloglike = lambda theta: -loglike(theta)"
   ]
  },
  {
   "cell_type": "markdown",
   "metadata": {},
   "source": [
    "### Minimize the Negative Log Likelihood\n",
    "\n",
    "Use the bounded minimizer `L-BFGS-B`."
   ]
  },
  {
   "cell_type": "code",
   "execution_count": 5,
   "metadata": {},
   "outputs": [
    {
     "data": {
      "text/plain": [
       "      fun: 12.182413948131622\n",
       " hess_inv: <3x3 LbfgsInvHessProduct with dtype=float64>\n",
       "      jac: array([-1.64135372e-04, -8.55848725e-04,  8.34887715e-05])\n",
       "  message: b'CONVERGENCE: REL_REDUCTION_OF_F_<=_FACTR*EPSMCH'\n",
       "     nfev: 88\n",
       "      nit: 15\n",
       "   status: 0\n",
       "  success: True\n",
       "        x: array([ 4.52831507, -1.0030088 , -0.79043918])"
      ]
     },
     "execution_count": 5,
     "metadata": {},
     "output_type": "execute_result"
    }
   ],
   "source": [
    "p0 = [4., -1., -0.7]\n",
    "\n",
    "bestfit = minimize(nloglike, p0, method='L-BFGS-B',\n",
    "                   bounds=((0.,10.),\n",
    "                           (-10.,0.),\n",
    "                           (-10.,10.)))\n",
    "\n",
    "bestfit"
   ]
  },
  {
   "cell_type": "markdown",
   "metadata": {},
   "source": [
    "### Plot the Best Fit with the Data\n",
    "\n",
    "Plot the best-fit line + residuals."
   ]
  },
  {
   "cell_type": "code",
   "execution_count": 6,
   "metadata": {},
   "outputs": [
    {
     "data": {
      "image/png": "[encoded data removed]",
      "text/plain": [
       "<Figure size 576x468 with 2 Axes>"
      ]
     },
     "metadata": {
      "needs_background": "light"
     },
     "output_type": "display_data"
    }
   ],
   "source": [
    "fig, axes = plt.subplots(2,1, figsize=(8,6.5),\n",
    "                         gridspec_kw={'height_ratios':[3,1], 'hspace':0.02})\n",
    "\n",
    "# Plot the data\n",
    "ax = axes[0]\n",
    "ax.errorbar(x, y, yerr=yerr, fmt='.k', capsize=0, lw=1)\n",
    "\n",
    "# Plot the best fit\n",
    "x0 = np.linspace(0, 10, 500)\n",
    "a, b, lnf = bestfit.x\n",
    "ax.plot(x0, a + b*x0, 'k', alpha=0.3, lw=3)\n",
    "ax.set(xlim=(0,10), xticks=[], ylim=(-8,8), ylabel='$y$')\n",
    "\n",
    "# Plot the fit residuals\n",
    "ax = axes[1]\n",
    "ax.errorbar(x, y-(a + b*x), yerr=yerr, fmt='.k', capsize=0, lw=1)\n",
    "ax.set(xlim=(0,10), xlabel='$x$', ylim=(-6,6), ylabel=r'$\\Delta y$')\n",
    "ax.axhline(ls='--', lw=1, color='k');"
   ]
  },
  {
   "cell_type": "markdown",
   "metadata": {},
   "source": [
    "## Compute Parameter Uncertainties\n",
    "\n",
    "The `L-BFGS-B` algorithm can return an operator object rather than the inverse of the Hessian matrix, so we can convert it to matrix form and take the square root of the diagonals."
   ]
  },
  {
   "cell_type": "code",
   "execution_count": 7,
   "metadata": {},
   "outputs": [
    {
     "name": "stdout",
     "output_type": "stream",
     "text": [
      "a    =    4.5283 +- 1.4169\n",
      "b    =   -1.0030 +- 0.3729\n",
      "lnf  =   -0.7904 +- 2.1996\n"
     ]
    }
   ],
   "source": [
    "uncertainty = np.sqrt(np.diag(bestfit.hess_inv.todense()))\n",
    "labels = ['a', 'b', 'lnf']\n",
    "\n",
    "for i in range(3):\n",
    "    print('{:<4s} = {:9.4f} +- {:6.4f}'.format(labels[i], bestfit.x[i], uncertainty[i]))"
   ]
  },
  {
   "cell_type": "markdown",
   "metadata": {},
   "source": [
    "The uncertainties are relatively large, which is suspicious given the spread of the data around the best fit model."
   ]
  },
  {
   "cell_type": "markdown",
   "metadata": {},
   "source": [
    "#### Numerically Compute the Hessian\n",
    "\n",
    "Check against a numerical evaluation of the Hessian around the maximum likelihood value. We'll need to invert the Hessian, and if we evaluate it for the likelihood rather than the negative log likelihood, we'll also need to negate the inverse before taking the square root."
   ]
  },
  {
   "cell_type": "code",
   "execution_count": 8,
   "metadata": {},
   "outputs": [
    {
     "data": {
      "text/plain": [
       "-12.182413948131622"
      ]
     },
     "execution_count": 8,
     "metadata": {},
     "output_type": "execute_result"
    }
   ],
   "source": [
    "loglike(bestfit.x)"
   ]
  },
  {
   "cell_type": "code",
   "execution_count": 9,
   "metadata": {},
   "outputs": [],
   "source": [
    "hessian = ndt.Hessian(loglike)\n",
    "hess_ll = hessian(bestfit.x)\n",
    "hess_inv = np.linalg.inv(hess_ll)"
   ]
  },
  {
   "cell_type": "code",
   "execution_count": 10,
   "metadata": {},
   "outputs": [
    {
     "name": "stdout",
     "output_type": "stream",
     "text": [
      "a    =    4.5283 +- 0.3562\n",
      "b    =   -1.0030 +- 0.0780\n",
      "lnf  =   -0.7904 +- 0.1550\n"
     ]
    }
   ],
   "source": [
    "uncertainty = np.sqrt(np.diag(-hess_inv))\n",
    "\n",
    "for i in range(3):\n",
    "    print('{:<4s} = {:9.4f} +- {:6.4f}'.format(labels[i], bestfit.x[i], uncertainty[i]))"
   ]
  },
  {
   "cell_type": "markdown",
   "metadata": {},
   "source": [
    "Notice how the uncertainties are quite a bit smaller!\n",
    "\n",
    "Based on our knowledge of this problem (see the other notebooks using MCMC and nested sampling on the same dataset) the numerically computed Hessian seems to give a pretty reasonable estimate of the uncertainties."
   ]
  }
 ],
 "metadata": {
  "kernelspec": {
   "display_name": "Python 3",
   "language": "python",
   "name": "python3"
  },
  "language_info": {
   "codemirror_mode": {
    "name": "ipython",
    "version": 3
   },
   "file_extension": ".py",
   "mimetype": "text/x-python",
   "name": "python",
   "nbconvert_exporter": "python",
   "pygments_lexer": "ipython3",
   "version": "3.7.4"
  }
 },
 "nbformat": 4,
 "nbformat_minor": 4
}
