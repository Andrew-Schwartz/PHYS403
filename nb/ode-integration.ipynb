{
 "cells": [
  {
   "cell_type": "markdown",
   "metadata": {},
   "source": [
    "# Coupled ODE Integration\n",
    "\n",
    "This notebook demonstrates integration of coupled ODEs and numerical integration of arrays of values in Python using a physically motivated example.\n",
    "\n",
    "## A Ballistic Trajectory with Drag\n",
    "\n",
    "The force on an object (a golfball or cannonball) moving in a uniform gravitation field with air resistance is given by\n",
    "\n",
    "$$\n",
    "\\vec{F} = -mg\\hat{z}-\\frac{1}{2}\\rho C_d Av^2 \\hat{v},\n",
    "$$\n",
    "\n",
    "where gravity acts in the $\\hat{z}$ direction, $\\rho$ is the density of air, $C_d$ is the drag coefficient of the object in air, and $A$ is its cross-sectional area. $C_d$ depends heavily on whether or not the air flow in the wake of the object is laminar or turbulent, and thus depends on both the speed and shape of the object.\n",
    "\n",
    "Writing this expression in terms of the object's position vector $\\vec{r}$ we have\n",
    "\n",
    "$$\n",
    "\\begin{align}\n",
    "m\\ddot{\\vec{r}} &= -mg\\hat{z} -\\frac{1}{2}\\rho C_d A|\\dot{\\vec{r}}|^2 \\frac{\\dot{\\vec{r}}}{|\\dot{\\vec{r}}|} \\\\\n",
    " \\frac{d}{dt}\\dot{\\vec{r}} &= -g\\hat{z} - \\alpha|\\dot{\\vec{r}}|\\dot{\\vec{r}},\n",
    "\\end{align}\n",
    "$$\n",
    "\n",
    "where $\\alpha=1/(2m)~\\rho C_d A$. Without loss of generality, restrict the motion to the $xz$ plane. Then the expression above can be written as two coupled first-order ODEs in velocity:\n",
    "\n",
    "$$\n",
    "\\begin{align}\n",
    " \\frac{d}{dt}\\dot{x} &= -\\alpha\\dot{x}\\sqrt{\\dot{x}^2 + \\dot{z}^2},\n",
    " &\n",
    " \\frac{d}{dt}\\dot{z} &= -mg -\\alpha\\dot{z}\\sqrt{\\dot{x}^2 + \\dot{z}^2}.\n",
    "\\end{align}\n",
    "$$\n",
    "\n",
    "## Numerical Solution\n",
    "\n",
    "In this example, we use the `odeint` function from `scipy.integrate` to solve for the components of the velocity $\\dot{x}$ and $\\dot{z}$. Then we can use the trapezoidal rule to estimate the trajectory $x(t)$ and $z(t)$."
   ]
  },
  {
   "cell_type": "code",
   "execution_count": 1,
   "metadata": {},
   "outputs": [],
   "source": [
    "import numpy as np\n",
    "import matplotlib as mpl\n",
    "import matplotlib.pyplot as plt\n",
    "from scipy.integrate import odeint, cumtrapz\n",
    "\n",
    "mpl.rc('font', size=14)"
   ]
  },
  {
   "cell_type": "code",
   "execution_count": 2,
   "metadata": {},
   "outputs": [],
   "source": [
    "g = 9.8\n",
    "\n",
    "def ballistic(V, t, m, A, rho, Cd):\n",
    "    \"\"\"Velocity equations for ballistic motion with drag.\n",
    "    Assume SI units for all inputs.\n",
    "    \n",
    "    Parameters\n",
    "    ----------\n",
    "    V : list\n",
    "        Velocity in x and z.\n",
    "    t : float\n",
    "        Time point used to solve for v.\n",
    "    m : float\n",
    "        Object mass [kg].\n",
    "    A : float\n",
    "        Object area [m2].\n",
    "    rho : float\n",
    "        Air density [kg/m3].\n",
    "    Cd : float\n",
    "        Drag coefficient.\n",
    "        \n",
    "    Returns\n",
    "    -------\n",
    "    dVdt : list\n",
    "        Velocity time derivative along x and z axes.\n",
    "    \"\"\"\n",
    "    vx, vz = V\n",
    "    alpha = rho*Cd*A/(2*m)\n",
    "    vmag = np.sqrt(vx**2 + vz**2)\n",
    "    dVdt = [   -alpha*vx*vmag,\n",
    "            -g -alpha*vz*vmag]\n",
    "    return dVdt"
   ]
  },
  {
   "cell_type": "markdown",
   "metadata": {},
   "source": [
    "## Initial Conditions\n",
    "\n",
    "Choose a $45^\\circ$ initial trajectory and an initial velocity of 40 m/s or about 90 mph. Then integrate the motion for 6 seconds.\n",
    "\n",
    "The object properties and drag coefficients are roughly those of a baseball."
   ]
  },
  {
   "cell_type": "code",
   "execution_count": 3,
   "metadata": {},
   "outputs": [],
   "source": [
    "v0 = 40.\n",
    "angle = 45*np.pi/180.\n",
    "V0 = [v0*np.cos(angle), v0*np.sin(angle)]\n",
    "\n",
    "t = np.linspace(0, 6., 1001)\n",
    "\n",
    "# Object properties and drag coefficients.\n",
    "m = 0.15 # kg\n",
    "rho = 1.225 # kg/m3\n",
    "Cd = 0.5\n",
    "r = 0.0366\n",
    "A = np.pi * r**2 # m2"
   ]
  },
  {
   "cell_type": "markdown",
   "metadata": {},
   "source": [
    "## Solve for the Motion\n",
    "\n",
    "Consider several cases:\n",
    "1. No drag (vacuum).\n",
    "2. Drag, using sea-level air density.\n",
    "3. Drag, using air density at 1.4 km.\n",
    "4. Drag, using air density at 4 km."
   ]
  },
  {
   "cell_type": "code",
   "execution_count": 4,
   "metadata": {},
   "outputs": [],
   "source": [
    "# Solve for vx, vz with no drag.\n",
    "# Then numerically integrate vx, vz to get x(t) and z(t).\n",
    "v = odeint(ballistic, V0, t, args=(m, A, rho, 0.)).T\n",
    "x_vac, z_vac = [cumtrapz(v[i], t) for i in range(2)]\n",
    "\n",
    "# Solve with drag.\n",
    "# Numerically integrate vx, vz to get x(t) and z(t).\n",
    "v = odeint(ballistic, V0, t, args=(m, A, rho, Cd)).T\n",
    "x_air, z_air = [cumtrapz(v[i], t) for i in range(2)]\n",
    "\n",
    "# Solve with drag, using high-altitude air density (~1.4 km up).\n",
    "# Numerically integrate vx, vz to get x(t) and z(t).\n",
    "v = odeint(ballistic, V0, t, args=(m, A, 1.069, Cd)).T\n",
    "x_alt, z_alt = [cumtrapz(v[i], t) for i in range(2)]\n",
    "\n",
    "# Solve with drag, using very high-altitude air density (~4 km).\n",
    "# Numerically integrate vx, vz to get x(t) and z(t).\n",
    "v = odeint(ballistic, V0, t, args=(m, A, 0.81, Cd)).T\n",
    "x_ha, z_ha = [cumtrapz(v[i], t) for i in range(2)]"
   ]
  },
  {
   "cell_type": "code",
   "execution_count": 5,
   "metadata": {},
   "outputs": [
    {
     "data": {
      "image/png": "[encoded data removed]",
      "text/plain": [
       "<Figure size 720x288 with 1 Axes>"
      ]
     },
     "metadata": {
      "needs_background": "light"
     },
     "output_type": "display_data"
    }
   ],
   "source": [
    "fig, ax = plt.subplots(1,1, figsize=(10,4), tight_layout=True)\n",
    "ax.plot(x_vac, z_vac, 'k:', label='vacuum')\n",
    "ax.plot(x_air, z_air, 'k', label=r'$\\rho=1.225$ kg m$^{-3}$')\n",
    "ax.plot(x_alt, z_alt, 'k--', label=r'$\\rho=1.069$ kg m$^{-3}$')\n",
    "ax.plot(x_ha,  z_ha,  'k-.', label=r'$\\rho=0.819$ kg m$^{-3}$')\n",
    "\n",
    "ax.set(aspect='equal',\n",
    "       xlabel='$x$ [m]',\n",
    "       ylim=(0,1.3*np.max(z_vac)),\n",
    "       ylabel='$z$ [m]')\n",
    "\n",
    "leg = ax.legend(fontsize=11)"
   ]
  }
 ],
 "metadata": {
  "kernelspec": {
   "display_name": "Python 3",
   "language": "python",
   "name": "python3"
  },
  "language_info": {
   "codemirror_mode": {
    "name": "ipython",
    "version": 3
   },
   "file_extension": ".py",
   "mimetype": "text/x-python",
   "name": "python",
   "nbconvert_exporter": "python",
   "pygments_lexer": "ipython3",
   "version": "3.7.4"
  }
 },
 "nbformat": 4,
 "nbformat_minor": 2
}
