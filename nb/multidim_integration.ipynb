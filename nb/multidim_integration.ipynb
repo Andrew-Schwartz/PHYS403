{
 "cells": [
  {
   "cell_type": "markdown",
   "metadata": {},
   "source": [
    "# Numerical Integration\n",
    "\n",
    "In Python definite numerical integration of functions can be performed using the [scipy.integrate](https://docs.scipy.org/doc/scipy/reference/integrate.html) library.\n",
    "\n",
    "Indefinite integration of the kind available in Mathematica can be performed using [sympy](https://docs.sympy.org/latest/index.html) but since UR has a Mathematica site license we recommend using that for indefinite integrals."
   ]
  },
  {
   "cell_type": "markdown",
   "metadata": {},
   "source": [
    "## Function Integration\n",
    "\n",
    "Given a function (or function object) in Python, there are several available options in `scipy.integrate` that can be used for definite numerical. Here we demonstrate using the `quad` function for 1D integration and `nquad` for multidimensional integration. For more examples see the [scipy tutorial](https://docs.scipy.org/doc/scipy/reference/tutorial/integrate.html)."
   ]
  },
  {
   "cell_type": "markdown",
   "metadata": {},
   "source": [
    "### 1D Integral\n",
    "\n",
    "Evaluate the definite integral of $f(x)=x$:\n",
    "\n",
    "$$\n",
    "\\int_{0}^{10} x~dx = \\frac{x^2}{2}\\bigg|_{10} = 50\n",
    "$$\n",
    "\n",
    "The output of `quad` is the integral and an estimate of its accuracy."
   ]
  },
  {
   "cell_type": "code",
   "execution_count": 1,
   "metadata": {},
   "outputs": [
    {
     "name": "stdout",
     "output_type": "stream",
     "text": [
      "50 +- 5.55112e-13\n"
     ]
    }
   ],
   "source": [
    "from scipy.integrate import quad\n",
    "\n",
    "# Define f(x) = x using a Python lambda function.\n",
    "fx = lambda x : x\n",
    "\n",
    "# Evaluate the integral and print the result.\n",
    "I, dI = quad(fx, a=0, b=10)\n",
    "\n",
    "print('{:g} +- {:g}'.format(I, dI))"
   ]
  },
  {
   "cell_type": "markdown",
   "metadata": {},
   "source": [
    "### 2D Integral\n",
    "\n",
    "Evaluate the definite integral of $f(x,y) = x+y$:\n",
    "\n",
    "$$\n",
    "\\int_{0}^{10} dx\\int_{0}^{5} dy\\ x + y = \\int_{0}^{10} dx\\ \\left[xy + \\frac{y^2}{2}\\right]_0^5\n",
    "= \\left[\\frac{5x^2}{2}+\\frac{25x}{2}\\right]_0^{10} = 375\n",
    "$$"
   ]
  },
  {
   "cell_type": "code",
   "execution_count": 2,
   "metadata": {},
   "outputs": [
    {
     "name": "stdout",
     "output_type": "stream",
     "text": [
      "375 +- 4.16334e-12\n"
     ]
    }
   ],
   "source": [
    "from scipy.integrate import nquad\n",
    "\n",
    "# Define f(x,y) = x + y using a Python lambda function.\n",
    "fxy = lambda x, y : x + y\n",
    "\n",
    "# Evaluate the integral and print the result.\n",
    "I, dI = nquad(fxy, ranges=[[0,10], [0,5]])\n",
    "\n",
    "print('{:g} +- {:g}'.format(I, dI))"
   ]
  },
  {
   "cell_type": "markdown",
   "metadata": {},
   "source": [
    "### 3D Integral\n",
    "\n",
    "Evaluate the definite integral of $f(x,y) = (x+y)z$:\n",
    "\n",
    "$$\n",
    "\\begin{align*}\n",
    "\\int_{0}^{10} dx\\int_{0}^{5} dy\\int_{0}^2 dz\\ (x + y)z &= \\int_{0}^{10} dx\\int_{0}^{5} dy\\ 2(x+y)\n",
    " \\\\\n",
    " &= 2 \\int_{0}^{10} dx\\int_{0}^{5} dy\\ x+y\n",
    " = 2\\cdot375\n",
    " \\\\\n",
    " &= 750\n",
    "\\end{align*}\n",
    "$$"
   ]
  },
  {
   "cell_type": "code",
   "execution_count": 3,
   "metadata": {},
   "outputs": [
    {
     "name": "stdout",
     "output_type": "stream",
     "text": [
      "750 +- 8.32667e-12\n"
     ]
    }
   ],
   "source": [
    "# Define f(x,y) = x + y using a Python lambda function.\n",
    "fxyz = lambda x, y, z : (x + y)*z\n",
    "\n",
    "# Evaluate the integral and print the result.\n",
    "I, dI = nquad(fxyz, ranges=[[0,10], [0,5], [0,2]])\n",
    "\n",
    "print('{:g} +- {:g}'.format(I, dI))"
   ]
  },
  {
   "cell_type": "code",
   "execution_count": null,
   "metadata": {},
   "outputs": [],
   "source": []
  }
 ],
 "metadata": {
  "kernelspec": {
   "display_name": "Python 3",
   "language": "python",
   "name": "python3"
  },
  "language_info": {
   "codemirror_mode": {
    "name": "ipython",
    "version": 3
   },
   "file_extension": ".py",
   "mimetype": "text/x-python",
   "name": "python",
   "nbconvert_exporter": "python",
   "pygments_lexer": "ipython3",
   "version": "3.7.4"
  }
 },
 "nbformat": 4,
 "nbformat_minor": 4
}
