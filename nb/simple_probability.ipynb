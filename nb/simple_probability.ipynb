{
 "cells": [
  {
   "cell_type": "code",
   "execution_count": 3,
   "id": "ebd2f71a",
   "metadata": {},
   "outputs": [
    {
     "name": "stdout",
     "output_type": "stream",
     "text": [
      "0.8006457986939445\n"
     ]
    }
   ],
   "source": [
    "import numpy as np\n",
    "\n",
    "n_trials = 100000\n",
    "\n",
    "n_TTT = 0.\n",
    "n_rigged = 0.\n",
    "for i in range(n_trials):\n",
    "    # Choose a coin\n",
    "    if np.random.randint(1,4) == 1: # range is [1,4)\n",
    "        # choose rigged coin, result TTT is guaranteed\n",
    "        n_TTT += 1.\n",
    "        n_rigged += 1.\n",
    "    else:\n",
    "        # choose the fair coin, result TTT has probability 1/8\n",
    "        if np.random.randint(1,9) == 1:\n",
    "            n_TTT += 1.\n",
    "\n",
    "# determine what fraction of TTT results are due to rigged coin\n",
    "print(n_rigged/n_TTT)"
   ]
  },
  {
   "cell_type": "code",
   "execution_count": null,
   "id": "9c8c8bcb",
   "metadata": {
    "scrolled": true
   },
   "outputs": [],
   "source": []
  },
  {
   "cell_type": "code",
   "execution_count": null,
   "id": "8583b088",
   "metadata": {},
   "outputs": [],
   "source": []
  }
 ],
 "metadata": {
  "kernelspec": {
   "display_name": "Python 3 (ipykernel)",
   "language": "python",
   "name": "python3"
  },
  "language_info": {
   "codemirror_mode": {
    "name": "ipython",
    "version": 3
   },
   "file_extension": ".py",
   "mimetype": "text/x-python",
   "name": "python",
   "nbconvert_exporter": "python",
   "pygments_lexer": "ipython3",
   "version": "3.11.5"
  }
 },
 "nbformat": 4,
 "nbformat_minor": 5
}
