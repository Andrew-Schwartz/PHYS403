{
 "cells": [
  {
   "cell_type": "code",
   "execution_count": 2,
   "id": "4952d214",
   "metadata": {},
   "outputs": [
    {
     "data": {
      "image/png": "[encoded data removed]",
      "text/plain": [
       "<Figure size 640x480 with 2 Axes>"
      ]
     },
     "metadata": {},
     "output_type": "display_data"
    },
    {
     "name": "stdout",
     "output_type": "stream",
     "text": [
      "2D 2.56848e-10, 3D 6.80803e-11, Bayes factor 3.77\n"
     ]
    }
   ],
   "source": [
    "import numpy as np\n",
    "import matplotlib.pyplot as plt\n",
    "import scipy\n",
    "\n",
    "#prior_ranges = [[-0.5, 0.5], [0.5, 1.5], [-0.5, 0.5]]\n",
    "prior_ranges = [[-2., 2.], [-2., 2.], [-2., 2.]]\n",
    "\n",
    "def getDataPoints(name):\n",
    "    xi = []\n",
    "    yi = []\n",
    "    dyi = []\n",
    "    fdata = open(name,'r')\n",
    "    for line in fdata.readlines():\n",
    "        xi.append(float(line.split()[0]))\n",
    "        yi.append(float(line.split()[1]))\n",
    "        dyi.append(float(line.split()[2]))\n",
    "    # convert to numpy arrays\n",
    "    xi1 = np.array(xi)\n",
    "    yi1 = np.array(yi)\n",
    "    dyi1 = np.array(dyi)\n",
    "    return xi1, yi1, dyi1\n",
    "       \n",
    "def polymodel(params, x):\n",
    "    f = 0. # keep track of function value\n",
    "    for i in range(len(params)):\n",
    "        f += params[i] * (x**i) # f = a + bx + cx**2 + ...\n",
    "    return f\n",
    "        \n",
    "def logLike(xi,yi,dyi,params):\n",
    "    lnL = 0.\n",
    "    for i in range(len(xi)):\n",
    "        model = polymodel(params, xi[i])\n",
    "        # update lnL, include normalization\n",
    "        lnL -= (((yi[i]-model)**2/(2*dyi[i]**2)) - 0.5*np.log(2*np.pi*dyi[i]))\n",
    "    return lnL\n",
    "\n",
    "def flatprior(params):\n",
    "    # make the prior zero outside of the range\n",
    "    prior = 1.\n",
    "    for i in range(len(params)):\n",
    "        if params[i] < prior_ranges[i][0] or params[i] > prior_ranges[i][1]:\n",
    "            return 0.\n",
    "        prior *= (1./(prior_ranges[i][1]-prior_ranges[i][0]))\n",
    "    return prior\n",
    "\n",
    "def pdf2d(a,b,xi,yi,dyi):\n",
    "    params = [a,b]\n",
    "    lnL = logLike(xi,yi,dyi,params)\n",
    "    lnprior = np.log(flatprior(params))\n",
    "    return np.exp(lnL+lnprior)\n",
    "\n",
    "def pdf3d(a,b,c,xi,yi,dyi):\n",
    "    params = [a,b,c]\n",
    "    lnL = logLike(xi,yi,dyi,params)\n",
    "    lnprior = np.log(flatprior(params))\n",
    "    return np.exp(lnL+lnprior)\n",
    "\n",
    "xi, yi, dyi = getDataPoints('model_selection.txt')\n",
    "\n",
    "# for plotting the 2d result\n",
    "alin = np.linspace(-2., 2., 100)\n",
    "blin = np.linspace(-2., 2., 100)\n",
    "\n",
    "limits2d = [[-2., 2.], [-2., 2.]]\n",
    "prob2d, error = scipy.integrate.nquad(pdf2d, limits2d, args=(xi, yi, dyi))\n",
    "\n",
    "# Not sure why I can't call pdf2d on linspaces and get a 2d array but whatever\n",
    "pdf2dvals = np.arange(len(alin)*len(blin),dtype=float).reshape(len(alin),len(blin))\n",
    "for ia in range(len(alin)):\n",
    "    for ib in range(len(blin)):\n",
    "        pdf2dvals[ia][ib] = pdf2d(alin[ia], blin[ib], xi, yi, dyi)\n",
    "        \n",
    "plt.contourf(alin, blin, pdf2dvals)\n",
    "plt.xlabel('a')\n",
    "plt.ylabel('b')\n",
    "plt.colorbar()\n",
    "plt.show()\n",
    "\n",
    "limits3d = [[-2., 2.], [-2., 2.], [-2., 2.]]\n",
    "prob3d, error = scipy.integrate.nquad(pdf3d, limits3d, args=(xi, yi, dyi))\n",
    "\n",
    "print(\"2D %g, 3D %g, Bayes factor %2.2f\" % (prob2d, prob3d, prob2d/prob3d))\n"
   ]
  },
  {
   "cell_type": "markdown",
   "id": "28cc41fc",
   "metadata": {},
   "source": [
    "The Bayes factor favors model $M_{1}$ mainly because it has less wasted phase space with one fewer parameter. The phase space penalty for $M_{2}$ is substantial. Reducing the allowed prior ranges decerases the Bayes factor, but not enough to actually prefer the quadratic model."
   ]
  },
  {
   "cell_type": "code",
   "execution_count": 7,
   "id": "b8868825",
   "metadata": {},
   "outputs": [
    {
     "name": "stdout",
     "output_type": "stream",
     "text": [
      "2 parameter fit: chi2 20.89 at a = -0.26, b = 1.07\n",
      "3 parameter fit: chi2 19.88 at a = -0.22, b = 0.79, c = 0.32\n",
      "2 parameter fit: p-val = 0.285\n",
      "3 parameter fit: p-val = 0.280\n",
      "deltaChi2: p-val = 0.317\n"
     ]
    }
   ],
   "source": [
    "def chi2(params, xi, yi, dyi):\n",
    "    chi2 = 0.\n",
    "    for i in range(len(xi)):\n",
    "        model = polymodel(params, xi[i])\n",
    "        chi2 += (yi[i]-model)**2/dyi[i]**2\n",
    "    return chi2\n",
    "\n",
    "result2d = scipy.optimize.minimize(chi2, [0., 0.], args=(xi,yi,dyi), method='BFGS')\n",
    "minchi22d = chi2(result2d.x, xi, yi, dyi)\n",
    "\n",
    "result3d = scipy.optimize.minimize(chi2, [0., 0., 0.], args=(xi,yi,dyi), method='BFGS')\n",
    "minchi23d = chi2(result3d.x, xi, yi, dyi)\n",
    "\n",
    "print(\"2 parameter fit: chi2 %2.2f at a = %2.2f, b = %2.2f\" % (minchi22d, result2d.x[0], result2d.x[1]))\n",
    "print(\"3 parameter fit: chi2 %2.2f at a = %2.2f, b = %2.2f, c = %2.2f\" % (minchi23d, result3d.x[0], result3d.x[1], result3d.x[2]))\n",
    "\n",
    "N = len(xi)\n",
    "\n",
    "pval2d = scipy.stats.chi2.sf(minchi22d, N-2)\n",
    "pval3d = scipy.stats.chi2.sf(minchi23d, N-3)\n",
    "pvaldiff = scipy.stats.chi2.sf(minchi22d-minchi23d, 1)\n",
    "\n",
    "print(\"2 parameter fit: p-val = %3.3f\" % pval2d)\n",
    "print(\"3 parameter fit: p-val = %3.3f\" % pval3d)\n",
    "print(\"deltaChi2: p-val = %3.3f\" % pvaldiff)"
   ]
  },
  {
   "cell_type": "markdown",
   "id": "1280fa3d",
   "metadata": {},
   "source": [
    "The p-values for the 2-parameter and 3-parameter fit are both reasonable. When we consider the difference in the $\\chi^{2}$ for the two nested models compared to the distribution for 1 degree of freedom, we get a high p-value of 0.317. This tells us that both models fit the data reasonably well. We know that there is no penalty for added model complexity in this analysis, so the fact that both models give good fits means that we should prefer the simpler linear model."
   ]
  },
  {
   "cell_type": "code",
   "execution_count": null,
   "id": "83a00de3",
   "metadata": {},
   "outputs": [],
   "source": []
  }
 ],
 "metadata": {
  "kernelspec": {
   "display_name": "Python 3 (ipykernel)",
   "language": "python",
   "name": "python3"
  },
  "language_info": {
   "codemirror_mode": {
    "name": "ipython",
    "version": 3
   },
   "file_extension": ".py",
   "mimetype": "text/x-python",
   "name": "python",
   "nbconvert_exporter": "python",
   "pygments_lexer": "ipython3",
   "version": "3.11.5"
  }
 },
 "nbformat": 4,
 "nbformat_minor": 5
}
