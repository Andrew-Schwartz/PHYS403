{
 "cells": [
  {
   "cell_type": "markdown",
   "id": "fb36f68b",
   "metadata": {},
   "source": [
    "# Midterm 2 - Andrew Schwartz - PHYS 403, SPR 2024"
   ]
  },
  {
   "cell_type": "markdown",
   "id": "7a566fb5",
   "metadata": {},
   "source": [
    "## 1. Bump Hunting\n",
    "\n",
    "An experiment searches for a new particle, the $X$ particle, with unknown mass $m_X$. The experiment selects candidate events as a function of the measured mass. There is a background that is known to be flat over the mass range of interest. Assume that any signal due to the $X$ particle has a Gaussian shape, but with unknown width. It is reasonable to assume that the width is relatively narrow, not more than a few GeV. Neither the signal nor the background rate is known. \n",
    "\n",
    "The experimental data are plotted below, and can be downloaded from Blackboard in the file $\\texttt{bump_hunt.txt}$. You may assume that there are no systematic uncertainties, and that the statistics are sufficiently high that the uncertainty on the number of counts in a bin is approximately Gaussian with $\\sigma = \\sqrt{N}$ where $N$ is the number of counts.\n",
    " \n",
    "Determine the significance of the signal, using any reasonable analysis technique. Justify any assumptions you make. Report some quantitative measure of the significance (i.e. compared to a model with only background), report an estimator of the mass $m_X$ and estimate its uncertainty. \n",
    "\n",
    "Hint: Fit the data with a function that has a flat background term added to a Gaussian signal term, with the normalization, the location parameter, and the scaling parameter free. For the null hypothesis, fit the data with only a flat background and no signal term.\n",
    " \n",
    "This problem is deliberately open-ended. You may use either Bayesian or frequentist techniques. You can earn full points as long as your analysis and its interpretation is correct, and any assumptions are reasonable and justified. There are several correct approaches, and you may choose any one of them. You may (but are not required to) pursue multiple approaches, and comment on the advantages and/or disadvantages. \n",
    "\n",
    "Warning: four-dimensional minimization and integration is not fast. It is possible that you will encounter calculations that take a long time (hours) to complete. You may comment on this in your interpretation"
   ]
  },
  {
   "cell_type": "code",
   "outputs": [
    {
     "data": {
      "text/plain": "<Figure size 640x480 with 1 Axes>",
      "image/png": "[encoded data removed]"
     },
     "metadata": {},
     "output_type": "display_data"
    }
   ],
   "source": [
    "# just getting stuff set up\n",
    "\n",
    "import matplotlib.pyplot as plt\n",
    "import numpy as np\n",
    "from scipy.optimize import minimize\n",
    "from scipy.stats import norm as gaussian, chi2 as chi2dist\n",
    "from prettytable import PrettyTable\n",
    "\n",
    "def load():\n",
    "    # sorry if this is very long, my editor has an option to collapse the string so I don't see it \n",
    "    d = np.fromstring(\"\"\"10 109 \n",
    "11 90 \n",
    "12 117 \n",
    "13 88 \n",
    "14 106 \n",
    "15 112 \n",
    "16 105 \n",
    "17 114 \n",
    "18 94 \n",
    "19 96 \n",
    "20 111 \n",
    "21 90 \n",
    "22 95 \n",
    "23 116 \n",
    "24 105 \n",
    "25 115 \n",
    "26 90 \n",
    "27 77 \n",
    "28 103 \n",
    "29 110 \n",
    "30 102 \n",
    "31 95 \n",
    "32 110 \n",
    "33 92 \n",
    "34 103 \n",
    "35 105 \n",
    "36 92 \n",
    "37 104 \n",
    "38 100 \n",
    "39 91 \n",
    "40 107 \n",
    "41 86 \n",
    "42 111 \n",
    "43 88 \n",
    "44 106 \n",
    "45 94 \n",
    "46 117 \n",
    "47 104 \n",
    "48 114 \n",
    "49 110 \n",
    "50 95 \n",
    "51 111 \n",
    "52 112 \n",
    "53 104 \n",
    "54 88 \n",
    "55 97 \n",
    "56 87 \n",
    "57 102 \n",
    "58 101 \n",
    "59 104 \n",
    "60 121 \n",
    "61 96 \n",
    "62 81 \n",
    "63 96 \n",
    "64 96 \n",
    "65 97 \n",
    "66 85 \n",
    "67 93 \n",
    "68 97 \n",
    "69 106 \n",
    "70 112 \n",
    "71 91 \n",
    "72 116 \n",
    "73 106 \n",
    "74 107 \n",
    "75 113 \n",
    "76 97 \n",
    "77 99 \n",
    "78 102 \n",
    "79 138 \n",
    "80 144 \n",
    "81 114 \n",
    "82 116 \n",
    "83 102 \n",
    "84 114 \n",
    "85 84 \n",
    "86 88 \n",
    "87 102 \n",
    "88 97 \n",
    "89 95 \n",
    "90 107 \n",
    "91 93 \n",
    "92 111 \n",
    "93 114 \n",
    "94 79 \n",
    "95 110 \n",
    "96 100 \n",
    "97 99 \n",
    "98 104 \n",
    "99 99 \n",
    "100 97\"\"\", dtype=float, sep=' ')\n",
    "    N = len(d) // 2\n",
    "    mass, counts = d.reshape(N, 2).T\n",
    "    return N, mass, counts, np.sqrt(counts)\n",
    "\n",
    "\n",
    "N, xs, ys, dys = load()\n",
    "\n",
    "\n",
    "def data_fig(ax=None):\n",
    "    if ax is None:\n",
    "        fig, ax = plt.subplots()\n",
    "    ax.errorbar(xs, ys, dys, fmt='o')\n",
    "    ax.set(\n",
    "        xlabel='Mass (GeV)',\n",
    "        ylabel='Counts'\n",
    "    )\n",
    "\n",
    "\n",
    "data_fig()\n",
    "plt.show()"
   ],
   "metadata": {
    "collapsed": false,
    "ExecuteTime": {
     "end_time": "2024-04-05T20:32:36.862492Z",
     "start_time": "2024-04-05T20:32:36.691148Z"
    }
   },
   "id": "b4254b8e55912478",
   "execution_count": 156
  },
  {
   "cell_type": "markdown",
   "id": "cb01a1ee",
   "metadata": {},
   "source": [
    "## Solution\n",
    "\n",
    "Using $x_i$ as mass and $y_i$ as count with uncertainty $\\sigma_i$.\n",
    "\n",
    "Define the background $$B(x|b)=b$$ where $b$ is the background number of counts. \n",
    " \n",
    "Define the signal \n",
    "$$ S(x|A,μ,σ)=A e^{-\\frac{(x-\\mu)^2}{2\\sigma^2} $$\n",
    "where $A$ is the normalization (set the scale of how far from the background the Gaussian goes), $\\mu$ is the center mass of the spike, and $\\sigma$ is the width of the spike.\n",
    "\n",
    "With these functions we define our null hypothesis $M_0$ with the function $f(x|M_0)=B(x|b)$ and the discovery hypothesis $M_1$ with the function $f(x|M_1)=B(x|b)+S(x|A,\\mu,\\sigma)$.\n",
    "\n",
    "This lets us fit the models by minimizing a $chi^2$ test statistic given by\n",
    "$$ \\chi^2_{M_i}=\\sum_{i=1}^N \\left(\\frac{y_i-f(x_i)}{\\sigma_i}\\right)^2 $$\n",
    "where $f$ is either the background or the background+signal."
   ]
  },
  {
   "cell_type": "code",
   "outputs": [],
   "source": [
    "# our background model: just some constant background `b` independent of mass xᵢ\n",
    "background = lambda b, x: b\n",
    "\n",
    "# signal: an arbitrarily `nor`malized Gaussian centered at `loc` with width `scale`\n",
    "signal = lambda norm, loc, scale, x: norm * gaussian.pdf(x, loc=loc, scale=scale)\n",
    "\n",
    "# our full model: background + signal\n",
    "full = lambda b, norm, loc, scale, x: background(b, x) + signal(norm, loc, scale, x)\n",
    "\n",
    "# M[0] and M[1]\n",
    "models = [background, full]"
   ],
   "metadata": {
    "collapsed": false,
    "ExecuteTime": {
     "end_time": "2024-04-05T20:32:37.174282Z",
     "start_time": "2024-04-05T20:32:37.151599Z"
    }
   },
   "id": "de0890a9954007bc",
   "execution_count": 158
  },
  {
   "cell_type": "code",
   "outputs": [
    {
     "name": "stdout",
     "output_type": "stream",
     "text": [
      "[0. 5.]\n",
      "       message: Optimization terminated successfully.\n",
      "       success: True\n",
      "        status: 0\n",
      "           fun: 86.68241981868678\n",
      "             x: [ 1.000e+02  1.039e+02  7.970e+01  8.550e-01]\n",
      "           nit: 183\n",
      "          nfev: 316\n",
      " final_simplex: (array([[ 1.000e+02,  1.039e+02,  7.970e+01,  8.550e-01],\n",
      "                       [ 1.000e+02,  1.039e+02,  7.970e+01,  8.550e-01],\n",
      "                       ...,\n",
      "                       [ 1.000e+02,  1.039e+02,  7.970e+01,  8.550e-01],\n",
      "                       [ 1.000e+02,  1.039e+02,  7.970e+01,  8.550e-01]]), array([ 8.668e+01,  8.668e+01,  8.668e+01,  8.668e+01,\n",
      "                        8.668e+01]))\n"
     ]
    }
   ],
   "source": [
    "# a function that, for the given model function `f` will calculate χ² for a given set of parameters\n",
    "chi2 = lambda f: lambda ps: np.sum((ys - f(*ps, xs)) ** 2 / dys ** 2)\n",
    "\n",
    "# explanations of parameter range choices:\n",
    "# (I originally probably had a reason for them to be linspaces but idk now, and it would take a bit of time to refactor)\n",
    "# let the background be anywhere in the range of recorded counts\n",
    "bs = np.linspace(np.min(ys), np.max(ys), 1000)\n",
    "# good guess for possible normalization (height) of Gaussian, \n",
    "#  want it to be at least the std dev (~20), and just picked some big number for max\n",
    "norms = np.linspace(20, 500, 1000)\n",
    "# let the signal be anywhere in the range of measured masses\n",
    "locs = np.linspace(*xs[[0, -1]], 1000)\n",
    "# let the scale (width) of the Gaussian be \"a few GeV\" as the problem said\n",
    "scales = np.linspace(0, 5, 1000)\n",
    "print(scales[[0, -1]])\n",
    "\n",
    "# (lower, upper) bound for each fitting parameter\n",
    "bounds = [ls[[0, -1]] for ls in (bs, norms, locs, scales)]\n",
    "\n",
    "# find the best value of `b` for M₀\n",
    "best_background = minimize(chi2(background), 0, bounds=[bounds[0]]).x\n",
    "\n",
    "# find the best parameters for M₁,\n",
    "best_full_res = minimize(\n",
    "    chi2(full), [*best_background, 30, 80, 2],\n",
    "    method='Nelder-Mead',\n",
    "    bounds=bounds\n",
    ")\n",
    "print(best_full_res)\n",
    "best_full = best_full_res.x\n",
    "\n",
    "models_fit = list(zip(models, [best_background, best_full]))"
   ],
   "metadata": {
    "collapsed": false,
    "ExecuteTime": {
     "end_time": "2024-04-05T20:54:36.025189Z",
     "start_time": "2024-04-05T20:54:35.959310Z"
    }
   },
   "id": "4e3cbd3c5a3a180e",
   "execution_count": 198
  },
  {
   "cell_type": "code",
   "outputs": [
    {
     "data": {
      "text/plain": "<Figure size 640x480 with 1 Axes>",
      "image/png": "[encoded data removed]"
     },
     "metadata": {},
     "output_type": "display_data"
    }
   ],
   "source": [
    "fig, ax = plt.subplots()\n",
    "data_fig(ax)\n",
    "\n",
    "colors = [\"red\", \"green\"]\n",
    "for (model, params), color in zip(models_fit, colors):\n",
    "    ax.plot(locs, [model(*params, mass) for mass in locs], color=color)\n",
    "\n",
    "# calculate chi2 for each model with the best fit params\n",
    "chi2s = [chi2(model)(params) for model, params in models_fit]\n",
    "for i, χ2 in enumerate(chi2s):\n",
    "    ax.text(\n",
    "        0.05, 0.95 - 0.06 * i,\n",
    "        f'$\\chi^2_{{M_{i}}}={χ2:.5}$',\n",
    "        transform=ax.transAxes,\n",
    "        fontsize=11,\n",
    "        verticalalignment='top', horizontalalignment='left',\n",
    "        color= colors[i]\n",
    "        # bbox={'facecolor': 'white', 'alpha': 0.5, 'boxstyle': 'round'}\n",
    "    )\n",
    "    \n",
    "plt.title(\"Data + Fit Models\")\n",
    "plt.show()"
   ],
   "metadata": {
    "collapsed": false,
    "ExecuteTime": {
     "end_time": "2024-04-05T20:54:36.444442Z",
     "start_time": "2024-04-05T20:54:36.135230Z"
    }
   },
   "id": "4eba42da468dc938",
   "execution_count": 199
  },
  {
   "cell_type": "markdown",
   "source": [
    "See how similar the constant background terms for the two models are:"
   ],
   "metadata": {
    "collapsed": false
   },
   "id": "9277b9252ac1aaa6"
  },
  {
   "cell_type": "code",
   "outputs": [
    {
     "data": {
      "text/plain": "-0.8673341922151252"
     },
     "execution_count": 182,
     "metadata": {},
     "output_type": "execute_result"
    }
   ],
   "source": [
    "best_full[0] - best_background[0]"
   ],
   "metadata": {
    "collapsed": false,
    "ExecuteTime": {
     "end_time": "2024-04-05T20:39:01.158875Z",
     "start_time": "2024-04-05T20:39:01.139956Z"
    }
   },
   "id": "c05fa3912d953630",
   "execution_count": 182
  },
  {
   "cell_type": "code",
   "outputs": [],
   "source": [
    "# n params, then 1 arg is `x`\n",
    "n_params = lambda f: f.__code__.co_argcount - 1\n",
    "# the p value is 1 - cdf(χ²,dof=N-(# fit params))\n",
    "p_vals = [chi2dist.sf(chi2, N - n_params(model)) for chi2, model in zip(chi2s, models)]"
   ],
   "metadata": {
    "collapsed": false,
    "ExecuteTime": {
     "end_time": "2024-04-05T20:36:05.287729Z",
     "start_time": "2024-04-05T20:36:05.269293Z"
    }
   },
   "id": "c184e989193d4e5e",
   "execution_count": 177
  },
  {
   "cell_type": "markdown",
   "source": [
    "Since the models are nested, we have \n",
    "$$ \n",
    "\\begin{align}\n",
    "\\Delta\\chi^2 &\\sim \\chi_{M_1}^2-\\chi_{M_0}^2 \\\\\n",
    "    &=\\chi_{4-1}^2 \\\\\n",
    "    &=\\chi_3^2.\n",
    "\\end{align}\n",
    "$$\n",
    "\n",
    "Thus, we can determine the $p$-value of the $\\Delta\\chi^2$:"
   ],
   "metadata": {
    "collapsed": false
   },
   "id": "dc55069f413039d8"
  },
  {
   "cell_type": "code",
   "outputs": [],
   "source": [
    "deltaChi2 = chi2s[0] - chi2s[1]\n",
    "p_delta = chi2dist.sf(deltaChi2, 3)"
   ],
   "metadata": {
    "collapsed": false,
    "ExecuteTime": {
     "end_time": "2024-04-05T20:36:06.337894Z",
     "start_time": "2024-04-05T20:36:06.327864Z"
    }
   },
   "id": "3238b914666dcbb",
   "execution_count": 178
  },
  {
   "cell_type": "code",
   "outputs": [
    {
     "name": "stdout",
     "output_type": "stream",
     "text": [
      "+-------+----------------+------------------+-----------+\n",
      "|       | Model 0 (null) | Model 1 (signal) |  Δ=M₁-M₀  |\n",
      "+-------+----------------+------------------+-----------+\n",
      "|   χ²  |   111.636636   |    86.682420     | 24.954216 |\n",
      "| p-val |    0.060834    |     0.489438     |  0.000016 |\n",
      "+-------+----------------+------------------+-----------+\n"
     ]
    }
   ],
   "source": [
    "t = PrettyTable([\"\", \"Model 0 (null)\", \"Model 1 (signal)\", \"Δ=M₁-M₀\"], float_format=\".6\")\n",
    "t.add_row([\"χ²\", *chi2s, deltaChi2])\n",
    "t.add_row([\"p-val\", *p_vals, p_delta])\n",
    "print(t)"
   ],
   "metadata": {
    "collapsed": false,
    "ExecuteTime": {
     "end_time": "2024-04-05T20:36:07.528625Z",
     "start_time": "2024-04-05T20:36:07.518632Z"
    }
   },
   "id": "cace6a4a4260fc2e",
   "execution_count": 179
  },
  {
   "cell_type": "markdown",
   "source": [
    "Both the null and signal hypotheses have reasonable $p$-values. Comparing at the difference $\\Delta\\chi^2$ for the two models compared to a $chi_3^2$ distribution, we get a very small $p$-value of $1.6e-5$. This means that the signal hypothesis is able to fit the data much better than might be expected for an increase by 3 fitting parameters. \n",
    "\n",
    "This tells us that, despite the slightly increased complexity of the signal model $M_1$, it increases the fit enough that we should favor it to conclude that the particle $X$ exists."
   ],
   "metadata": {
    "collapsed": false
   },
   "id": "564d236bb1e14c66"
  },
  {
   "cell_type": "markdown",
   "source": [
    "Our estimate of $m_X$ is the location of the best fit params for $M_1$, with the uncertainty the width parameter:"
   ],
   "metadata": {
    "collapsed": false
   },
   "id": "182723d449402e6a"
  },
  {
   "cell_type": "code",
   "outputs": [
    {
     "name": "stdout",
     "output_type": "stream",
     "text": [
      "m_X = 79.7±0.855\n"
     ]
    }
   ],
   "source": [
    "print(f\"m_X = {best_full[2]:.4}±{best_full[3]:.4}\")"
   ],
   "metadata": {
    "collapsed": false,
    "ExecuteTime": {
     "end_time": "2024-04-05T21:01:47.328935Z",
     "start_time": "2024-04-05T21:01:47.312210Z"
    }
   },
   "id": "3dd160969f087ba7",
   "execution_count": 205
  },
  {
   "cell_type": "code",
   "outputs": [],
   "source": [],
   "metadata": {
    "collapsed": false
   },
   "id": "67490ad5d677ce5d"
  }
 ],
 "metadata": {
  "kernelspec": {
   "display_name": "Python 3",
   "language": "python",
   "name": "python3"
  },
  "language_info": {
   "codemirror_mode": {
    "name": "ipython",
    "version": 3
   },
   "file_extension": ".py",
   "mimetype": "text/x-python",
   "name": "python",
   "nbconvert_exporter": "python",
   "pygments_lexer": "ipython3",
   "version": "3.7.4"
  }
 },
 "nbformat": 4,
 "nbformat_minor": 5
}
