{
 "cells": [
  {
   "cell_type": "markdown",
   "id": "fb36f68b",
   "metadata": {},
   "source": [
    "# Homework 1 - Andrew Schwartz - PHYS 403, SPR 2024"
   ]
  },
  {
   "cell_type": "markdown",
   "id": "7a566fb5",
   "metadata": {},
   "source": [
    "## Problem 1\n",
    "\n",
    "The probability of either $A$ or $B$ (the logical sum $A + B$) being true is\n",
    "$$\n",
    "P(A + B|I) = P(A|I) + P(B|I) − P(A, B|I).\n",
    "$$\n",
    "It’s easy to see this graphically with a Venn diagram: $A + B = A ∪ B$ is the union of the disjoint sets $A$ and $B$ minus their overlap $AB = A ∩ B$:\n",
    "\n",
    "![venn](venn.png)\n",
    "\n",
    "Prove the relation using the rules of probability and basic Boolean algebra."
   ]
  },
  {
   "cell_type": "markdown",
   "id": "cb01a1ee",
   "metadata": {},
   "source": [
    "## Solution\n",
    "\n",
    "Each of $A$ and $B$ can either be $true$ or $false$ given $I$, meaning there are four possible outcomes, with the combination of $A$ or $B$ being either true or false as shown in the following truth table:\n",
    "\n",
    "---|---|---|---\n",
    ". | A | B | A+B\n",
    "1 | F | F | F\n",
    "2 | F | T | T\n",
    "3 | T | F | T\n",
    "4 | T | T | T\n",
    "\n",
    "Thus, the probability of $A$ or $B$ being true is the pro\n",
    "\n",
    "The combination $P(A|I) + P(B|I)$ gives (rows 3 and 4 + rows 2 and 4), whereas the $P(A+B|I)$ can be seen to be (rows 2, 3, and 4). Thus, the sum $P(A|I)+P(B|I)$ double counts the probability of both being true (row 4), so we must subtract that off once ($P(AB|I)$), giving the final answer of\n",
    "$$\n",
    "P(A+B|I)=P(A|I)+P(B|I)-P(AB|I).\n",
    "$$"
   ]
  },
  {
   "cell_type": "markdown",
   "id": "baf94773",
   "metadata": {},
   "source": [
    "## Problem 2\n",
    "\n",
    "According to a 2014 report by the Centers for Disease Control and Prevention, adult smokers are roughly 25 times more likely to develop lung cancer than nonsmokers, with all genders affected equally. Suppose you learn that a given woman has been diagnosed with lung cancer. If you know nothing else about her, what is the probability that she is a smoker? \n",
    "*Hint: express your answer in terms of the unknown fraction $s$ of women who smoke.*\n",
    "\n",
    "Then provide a numerical result using a recent estimate of $s$, documenting the source of your estimate."
   ]
  },
  {
   "cell_type": "markdown",
   "source": [
    "## Solution\n",
    "\n",
    "\n",
    "Given: \n",
    "1. $P(C|S)=25P(C|\\bar{S})$\n",
    "2. $P(S)=s=0.101$ as per [CDC](https://www.cdc.gov/tobacco/data_statistics/fact_sheets/adult_data/cig_smoking/index.htm) for 2021\n",
    "\n",
    "Want: $P(S|C)$\n",
    "\n",
    "From Bayes's rule, we know that $P(S|C)=\\frac{P(C|S)P(S)}{P(C)}$. Using our given 1, we know \n",
    "$$\n",
    "\\begin{align}\n",
    "P(C|S)+P(C|\\bar{S})&=P(C) \\\\\n",
    "P(C|S)+\\frac{1}{25}P(C|S)&=P(C) \\\\\n",
    "\\frac{26}{25}P(C|S)&=P(C).\n",
    "\\end{align}\n",
    "$$ \n",
    "\n",
    "Thus, we can plus this and given 2 into first equation, and find\n",
    "$$\n",
    "\\begin{align}\n",
    "P(S|C)&=\\frac{26/25P(C)s}{P(C)} \\\\\n",
    "&=\\frac{26}{25}s \\\\\n",
    "&=\\frac{26}{25} 0.101 \\\\\n",
    "&=0.10504\n",
    "\\end{align}\n",
    "$$"
   ],
   "metadata": {
    "collapsed": false
   },
   "id": "ce55edd88f81d24d"
  },
  {
   "cell_type": "markdown",
   "id": "d6e8e9b1",
   "metadata": {},
   "source": [
    "## Problem 3\n",
    "\n",
    "The gene for blue eye color is recessive. If you have two brown-eyed parents who carry the gene, their child has a 25% chance of having blue eyes. Consider a family with two parents, both with brown eyes who carry the recessive gene, and three children."
   ]
  },
  {
   "cell_type": "markdown",
   "source": [
    "### (a)\n",
    "If it is known that at least one child has blue eyes, what is the probability that at least two children have blue eyes?"
   ],
   "metadata": {
    "collapsed": false
   },
   "id": "910ea3251dc827a9"
  },
  {
   "cell_type": "markdown",
   "source": [
    "### Solution\n",
    "\n",
    "Want: $P(BB|B)$"
   ],
   "metadata": {
    "collapsed": false
   },
   "id": "cab6201471b1076d"
  },
  {
   "cell_type": "markdown",
   "source": [
    "### (b)\n",
    "If it is known that the youngest child has blue eyes, what is the probability that at least two children have blue eyes?"
   ],
   "metadata": {
    "collapsed": false
   },
   "id": "5f82f0e0dc6801e2"
  },
  {
   "cell_type": "markdown",
   "source": [
    "### Solution\n",
    "This is the probability that the oldest child has blue eyes ($O$) or the middle child has blue eyes ($M$) given that the youngest child has blue eyes ($Y$) - $P(O+M|Y)$. From problem 1, we know that this probability is \n",
    "$$\n",
    "\\begin{align}\n",
    "&P(O|Y)+P(M|Y)-P(OM|Y) \\\\\n",
    "=&1/4+1/4-1/16 \\\\\n",
    "=&7/16 \\\\\n",
    "=&0.4375\n",
    "\\end{align}\n",
    "$$"
   ],
   "metadata": {
    "collapsed": false
   },
   "id": "551916453b2730bf"
  },
  {
   "cell_type": "markdown",
   "source": [
    "### (c)\n",
    "Write a short program using a random number generator to simulate both cases. Show that you get the same answer."
   ],
   "metadata": {
    "collapsed": false
   },
   "id": "e0d39f3a43ffd53b"
  },
  {
   "cell_type": "code",
   "outputs": [],
   "source": [
    "import numpy as np\n",
    "from prettytable import PrettyTable"
   ],
   "metadata": {
    "collapsed": false,
    "ExecuteTime": {
     "end_time": "2024-01-29T19:54:27.417020200Z",
     "start_time": "2024-01-29T19:54:27.374678100Z"
    }
   },
   "id": "c81f03d9ebc97f8c",
   "execution_count": 6
  },
  {
   "cell_type": "code",
   "outputs": [
    {
     "name": "stdout",
     "output_type": "stream",
     "text": [
      "+------+--------------------+---------------------+\n",
      "| Part |      Expected      |      Simulated      |\n",
      "+------+--------------------+---------------------+\n",
      "|  a   | 0.2702702702702703 |  0.2702248311530513 |\n",
      "|  b   |       0.4375       | 0.43768808759224653 |\n",
      "+------+--------------------+---------------------+\n"
     ]
    }
   ],
   "source": [
    "# are the eyes blue?\n",
    "eye_choices = [True, False, False, False]\n",
    "\n",
    "# generate 10 million sets of children in order (oldest, middle, youngest)\n",
    "n = 10_000_000\n",
    "children = np.random.choice(eye_choices, (n, 3))\n",
    "\n",
    "# at least one has blue eyes (is true) (the given for part a)\n",
    "a = np.any(children, axis=1)\n",
    "# how many cases is the given for part a met?\n",
    "n_a = np.sum(a)\n",
    "\n",
    "# youngest has blue eyes\n",
    "b = children[:, 2]\n",
    "n_b = np.sum(b)\n",
    "\n",
    "# reduce children to counts of children with blue eyes\n",
    "n_blue = np.sum(children, axis=1)\n",
    "\n",
    "# count how many cases have 2 or more blue-eyed children, given that\n",
    "p_a = np.sum(n_blue[a] >= 2) / n_a\n",
    "p_b = np.sum(n_blue[b] >= 2) / n_b\n",
    "\n",
    "# print as a nice table of the expected probability calculated above and the simulated probability found here \n",
    "t = PrettyTable()\n",
    "t.align = 'r'\n",
    "t.field_names = [\"Part\", \"Expected\", \"Simulated\"]\n",
    "t.add_rows([\n",
    "    [\"a\", 10 / 37, p_a],\n",
    "    [\"b\", 7 / 16, p_b]\n",
    "])\n",
    "print(t)"
   ],
   "metadata": {
    "collapsed": false,
    "ExecuteTime": {
     "end_time": "2024-01-29T19:58:28.214733700Z",
     "start_time": "2024-01-29T19:58:27.600488900Z"
    }
   },
   "id": "4986aa4456d31ef3",
   "execution_count": 13
  },
  {
   "cell_type": "code",
   "outputs": [],
   "source": [],
   "metadata": {
    "collapsed": false
   },
   "id": "bb7c4f267a3511db"
  }
 ],
 "metadata": {
  "kernelspec": {
   "display_name": "Python 3",
   "language": "python",
   "name": "python3"
  },
  "language_info": {
   "codemirror_mode": {
    "name": "ipython",
    "version": 3
   },
   "file_extension": ".py",
   "mimetype": "text/x-python",
   "name": "python",
   "nbconvert_exporter": "python",
   "pygments_lexer": "ipython3",
   "version": "3.7.4"
  }
 },
 "nbformat": 4,
 "nbformat_minor": 5
}
