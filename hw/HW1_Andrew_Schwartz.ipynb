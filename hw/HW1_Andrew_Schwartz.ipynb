{
 "cells": [
  {
   "cell_type": "markdown",
   "id": "fb36f68b",
   "metadata": {},
   "source": [
    "# Homework 1 - Andrew Schwartz - PHYS 403, SPR 2024"
   ]
  },
  {
   "cell_type": "markdown",
   "id": "7a566fb5",
   "metadata": {},
   "source": [
    "## Problem 1\n",
    "\n",
    "The probability of either $A$ or $B$ (the logical sum $A + B$) being true is\n",
    "$$\n",
    "P(A + B|I) = P(A|I) + P(B|I) − P(A, B|I).\n",
    "$$\n",
    "It’s easy to see this graphically with a Venn diagram: $A + B = A ∪ B$ is the union of the disjoint sets $A$ and $B$ minus their overlap $AB = A ∩ B$:\n",
    "\n",
    "![venn](venn.png)\n",
    "\n",
    "Prove the relation using the rules of probability and basic Boolean algebra."
   ]
  },
  {
   "cell_type": "markdown",
   "id": "cb01a1ee",
   "metadata": {},
   "source": [
    "## Solution\n",
    "\n",
    "Each of $A$ and $B$ can either be $true$ or $false$ given $I$, meaning there are four possible outcomes, with the combination of $A$ or $B$ being either true or false as shown in the following truth table:\n",
    "\n",
    "---|---|---|---\n",
    ". | A | B | A+B\n",
    "1 | F | F | F\n",
    "2 | F | T | T\n",
    "3 | T | F | T\n",
    "4 | T | T | T\n",
    "\n",
    "Thus, the probability of $A$ or $B$ being true is the pro\n",
    "\n",
    "The combination $P(A|I) + P(B|I)$ gives (rows 3 and 4 + rows 2 and 4), whereas the $P(A+B|I)$ can be seen to be (rows 2, 3, and 4). Thus, the sum $P(A|I)+P(B|I)$ double counts the probability of both being true (row 4), so we must subtract that off once ($P(AB|I)$), giving the final answer of\n",
    "$$\n",
    "P(A+B|I)=P(A|I)+P(B|I)-P(AB|I).\n",
    "$$"
   ]
  },
  {
   "cell_type": "markdown",
   "id": "baf94773",
   "metadata": {},
   "source": [
    "## Problem 2\n",
    "\n",
    "According to a 2014 report by the Centers for Disease Control and Prevention, adult smokers are roughly 25 times more likely to develop lung cancer than nonsmokers, with all genders affected equally. Suppose you learn that a given woman has been diagnosed with lung cancer. If you know nothing else about her, what is the probability that she is a smoker? \n",
    "*Hint: express your answer in terms of the unknown fraction $s$ of women who smoke.*\n",
    "\n",
    "Then provide a numerical result using a recent estimate of $s$, documenting the source of your estimate."
   ]
  },
  {
   "cell_type": "markdown",
   "source": [
    "## Solution\n",
    "\n",
    "\n",
    "Given: \n",
    "1. $P(C|S)=25P(C|\\bar{S})$\n",
    "2. $P(S)=s=0.101$ as per [CDC](https://www.cdc.gov/tobacco/data_statistics/fact_sheets/adult_data/cig_smoking/index.htm) for 2021\n",
    "\n",
    "Want: $P(S|C)$\n",
    "\n",
    "From Bayes's rule, we know that $P(S|C)=\\frac{P(C|S)P(S)}{P(C)}$. Using our given 1, we know \n",
    "$$\n",
    "\\begin{align}\n",
    "P(C|S)+P(C|\\bar{S})&=P(C) \\\\\n",
    "P(C|S)+\\frac{1}{25}P(C|S)&=P(C) \\\\\n",
    "\\frac{26}{25}P(C|S)&=P(C).\n",
    "\\end{align}\n",
    "$$ \n",
    "\n",
    "Thus, we can plus this and given 2 into first equation, and find\n",
    "$$\n",
    "\\begin{align}\n",
    "P(S|C)&=\\frac{26/25P(C)s}{P(C)} \\\\\n",
    "&=\\frac{26}{25}s \\\\\n",
    "&=\\frac{26}{25} 0.101 \\\\\n",
    "&=0.10504\n",
    "\\end{align}\n",
    "$$"
   ],
   "metadata": {
    "collapsed": false
   },
   "id": "ce55edd88f81d24d"
  },
  {
   "cell_type": "markdown",
   "id": "d6e8e9b1",
   "metadata": {},
   "source": [
    "## Problem 3\n",
    "\n",
    "The gene for blue eye color is recessive. If you have two brown-eyed parents who carry the gene, their child has a 25% chance of having blue eyes. Consider a family with two parents, both with brown eyes who carry the recessive gene, and three children."
   ]
  },
  {
   "cell_type": "markdown",
   "source": [
    "### (a)\n",
    "If it is known that at least one child has blue eyes, what is the probability that at least two children have blue eyes?"
   ],
   "metadata": {
    "collapsed": false
   },
   "id": "910ea3251dc827a9"
  },
  {
   "cell_type": "markdown",
   "source": [
    "### Solution\n",
    "\n",
    "Want: $P(BB|B)$"
   ],
   "metadata": {
    "collapsed": false
   },
   "id": "cab6201471b1076d"
  },
  {
   "cell_type": "markdown",
   "source": [
    "### (b)\n",
    "If it is known that the youngest child has blue eyes, what is the probability that at least two children have blue eyes?"
   ],
   "metadata": {
    "collapsed": false
   },
   "id": "5f82f0e0dc6801e2"
  },
  {
   "cell_type": "markdown",
   "source": [
    "### (c)\n",
    "Write a short program using a random number generator to simulate both cases. Show that you get the same answer."
   ],
   "metadata": {
    "collapsed": false
   },
   "id": "e0d39f3a43ffd53b"
  },
  {
   "cell_type": "code",
   "outputs": [],
   "source": [],
   "metadata": {
    "collapsed": false
   },
   "id": "c81f03d9ebc97f8c"
  }
 ],
 "metadata": {
  "kernelspec": {
   "display_name": "Python 3",
   "language": "python",
   "name": "python3"
  },
  "language_info": {
   "codemirror_mode": {
    "name": "ipython",
    "version": 3
   },
   "file_extension": ".py",
   "mimetype": "text/x-python",
   "name": "python",
   "nbconvert_exporter": "python",
   "pygments_lexer": "ipython3",
   "version": "3.7.4"
  }
 },
 "nbformat": 4,
 "nbformat_minor": 5
}
