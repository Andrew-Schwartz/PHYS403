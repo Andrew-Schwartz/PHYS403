{
 "cells": [
  {
   "cell_type": "markdown",
   "id": "fb36f68b",
   "metadata": {},
   "source": [
    "# Homework 7 - Andrew Schwartz - PHYS 403, SPR 2024"
   ]
  },
  {
   "cell_type": "markdown",
   "id": "7a566fb5",
   "metadata": {},
   "source": [
    "## 1. Systematics: The Bayesian Approach\n",
    "\n",
    "Hubble’s Law states that a galaxy located a distance $d$ from Earth will recede at velocity $v$ given by\n",
    "$$ v = H0d. $$\n",
    "H0 is called Hubble’s constant. By measuring the redshift of a galaxy, astronomers can calculate v and therefore d using H0. However, H0 is itself an experimentally determined quantity,\n",
    "so uncertainties in H0 lead to systematic uncertainties in d. Given a measurement vm of v, H0\n",
    "is a nuisance parameter in the calculation of d.\n",
    "Suppose a galaxy has a measured recession velocity vm = (30 ± 1) × 103 km s−1\n",
    ". Assume a\n",
    "Gaussian uncertainty on vm, i.e., the error bar 1 × 103 km s−1\n",
    "can be treated as the width of a\n",
    "Gaussian with mean 30 × 103 km s−1\n",
    ".\n",
    "Using the measured velocity, calculate and plot the posterior PDF p(d|vm, I) of the distance\n",
    "to the galaxy for the cases listed below. In all cases assume a flat prior p(d|I) in the range\n",
    "d ∈ [0, 800] Mpc."
   ]
  },
  {
   "cell_type": "markdown",
   "id": "cb01a1ee",
   "metadata": {},
   "source": [
    "## Solution\n",
    "\n"
   ]
  },
  {
   "cell_type": "markdown",
   "id": "baf94773",
   "metadata": {},
   "source": [
    "## 2.\n"
   ]
  },
  {
   "cell_type": "markdown",
   "source": [
    "## Solution"
   ],
   "metadata": {
    "collapsed": false
   },
   "id": "90205bade6db03e8"
  },
  {
   "cell_type": "markdown",
   "id": "d6e8e9b1",
   "metadata": {},
   "source": [
    "## 3.\n"
   ]
  },
  {
   "cell_type": "markdown",
   "source": [
    "## Solution"
   ],
   "metadata": {
    "collapsed": false
   },
   "id": "212c8e608c3757fe"
  },
  {
   "cell_type": "code",
   "outputs": [],
   "source": [],
   "metadata": {
    "collapsed": false
   },
   "id": "9b79b369152feb1f"
  }
 ],
 "metadata": {
  "kernelspec": {
   "display_name": "Python 3",
   "language": "python",
   "name": "python3"
  },
  "language_info": {
   "codemirror_mode": {
    "name": "ipython",
    "version": 3
   },
   "file_extension": ".py",
   "mimetype": "text/x-python",
   "name": "python",
   "nbconvert_exporter": "python",
   "pygments_lexer": "ipython3",
   "version": "3.7.4"
  }
 },
 "nbformat": 4,
 "nbformat_minor": 5
}
