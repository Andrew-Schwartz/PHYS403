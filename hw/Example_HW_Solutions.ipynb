{
 "cells": [
  {
   "cell_type": "markdown",
   "id": "fb36f68b",
   "metadata": {},
   "source": [
    "# Homework 1 - Your Name - PHYS 403, SPR 2022\n",
    "\n",
    "Example of how to entirely answer write up answers to homework using a Jupyter notebook."
   ]
  },
  {
   "cell_type": "markdown",
   "id": "7a566fb5",
   "metadata": {},
   "source": [
    "## Problem 1\n",
    "\n",
    "What is the probability that in a class of 10 people, at least two share a birthday?"
   ]
  },
  {
   "cell_type": "markdown",
   "id": "cb01a1ee",
   "metadata": {},
   "source": [
    "### Solution\n",
    "\n",
    "We want $P(A)$, where $A$ is the premise that two or more people share a birthday.\n",
    "\n",
    "It's easier to start with $P(\\bar{A})$, where $\\bar{A}$ is the premise that no two people share a birthday. Then we use the sum rule of probability to compute $P(A)$:\n",
    "\n",
    "$$\n",
    "P(A) = 1 - P(\\bar{A})\n",
    "$$\n",
    "\n",
    "To compute $P(\\bar{A})$, take the product of the following conditional probabilities:\n",
    "1. $P(1|1) = 365/365=1$, the probability of birthday 1 not being shared is 1.\n",
    "1. $P(2|1) = 364/365$, the probability of birthday 2 not being shared given the birthday of person 1.\n",
    "2. $P(3|1,2) = 363/365$, the probability of birthday 3 not being shared given birthdays 1 and 2.\n",
    "3. $P(4|1,2,3) = 362/365$, the probability of birthday 4 not being shared given birthdays 1, 2, and 3.\n",
    "\n",
    "...\n",
    "\n",
    "9. $P(10|1,2,3,\\ldots,9) = 356/365$, the probability of birthday 10 not being shared given birthdays 1 through 9.\n",
    "\n",
    "Therefore,\n",
    "$$\n",
    "\\begin{align*}\n",
    "P(\\bar{A}) &= \\frac{365}{365}\\cdot\\frac{364}{365}\\cdot\\frac{363}{365}\\cdot\\ldots\\cdot\\frac{356}{365} \\\\\n",
    "&= \\frac{365!}{355!\\cdot365^{10}} \\\\\n",
    "&\\approx 0.893\n",
    "\\end{align*}\n",
    "$$\n",
    "and\n",
    "$$\n",
    "P(A) = 1 - P(\\bar{A}) \\approx 0.117 = 11.7\\%.\n",
    "$$\n",
    "\n",
    "The pattern for $n$ people appears to be\n",
    "$$\n",
    "P(A|n) = \\frac{365!}{(365-n)!\\cdot 365^n}.\n",
    "$$"
   ]
  },
  {
   "cell_type": "markdown",
   "id": "baf94773",
   "metadata": {},
   "source": [
    "## Problem 2\n",
    "\n",
    "Write a function that computes the probability that at least 2 out of $n$ people share a birthday, for arbitrary $n$. Check your answer by computing $P(A|n=10)$.\n",
    "\n",
    "### Solution"
   ]
  },
  {
   "cell_type": "code",
   "execution_count": 1,
   "id": "8cbd12b5",
   "metadata": {},
   "outputs": [],
   "source": [
    "def bdayprob(n):\n",
    "    \"\"\"Compute probability of at least 2 of n people sharing a birthday.\n",
    "    \n",
    "    Parameters\n",
    "    ----------\n",
    "    n : int\n",
    "        Number of people.\n",
    "    \n",
    "    Returns\n",
    "    -------\n",
    "    prob : float\n",
    "        Probability of 2 of n people sharing a birthday.\n",
    "    \"\"\"\n",
    "    # We could compute 365! / ((365-n)! * 365^n), but each term is a large number\n",
    "    # that could lead to numerical overflow. Instead, accumulate the probability\n",
    "    # that no two people share a birthday with a simple loop.\n",
    "    pnot = 1.\n",
    "    m = n - 1\n",
    "    while m >= 0:\n",
    "        pnot *= (365 - m) / 365\n",
    "        m -= 1\n",
    "    return 1 - pnot"
   ]
  },
  {
   "cell_type": "code",
   "execution_count": 2,
   "id": "4ad121c0",
   "metadata": {},
   "outputs": [
    {
     "data": {
      "text/plain": [
       "0.11694817771107768"
      ]
     },
     "execution_count": 2,
     "metadata": {},
     "output_type": "execute_result"
    }
   ],
   "source": [
    "# Example: n = 10\n",
    "bdayprob(10)"
   ]
  },
  {
   "cell_type": "markdown",
   "id": "d6e8e9b1",
   "metadata": {},
   "source": [
    "## Problem 3\n",
    "\n",
    "Plot the probability $P(n)$ as a function of $n$ for $n\\in[1,80]$."
   ]
  },
  {
   "cell_type": "code",
   "execution_count": 3,
   "id": "1adb847a",
   "metadata": {},
   "outputs": [],
   "source": [
    "import numpy as np\n",
    "import matplotlib as mpl\n",
    "import matplotlib.pyplot as plt"
   ]
  },
  {
   "cell_type": "code",
   "execution_count": 4,
   "id": "a798a512",
   "metadata": {},
   "outputs": [],
   "source": [
    "# Increase the font size in plots.\n",
    "mpl.rc('font', size=14)"
   ]
  },
  {
   "cell_type": "code",
   "execution_count": 6,
   "id": "b77cdeab",
   "metadata": {},
   "outputs": [
    {
     "data": {
      "image/png": "[encoded data removed]",
      "text/plain": [
       "<Figure size 648x360 with 1 Axes>"
      ]
     },
     "metadata": {
      "needs_background": "light"
     },
     "output_type": "display_data"
    }
   ],
   "source": [
    "# Compute the data.\n",
    "\n",
    "n = np.arange(1,81,1)             # n  = [1,2,3,...,80]\n",
    "pr = [bdayprob(_n) for _n in n]   # pr = [p(1), p(2), p(3), ...]\n",
    "\n",
    "# Plot the results. Note how we clearly define the axis labels, titles, ranges, etc.\n",
    "\n",
    "fig, ax = plt.subplots(1,1, figsize=(9,5), tight_layout=True)\n",
    "ax.plot(n, pr)\n",
    "ax.set(title='Probability of $\\geq2$ shared birthdays among $n$ people',\n",
    "       xlabel='$n$', ylabel='$P(A|n)$',\n",
    "       xlim=[1,80], ylim=[0,1])\n",
    "ax.grid(ls=':');"
   ]
  }
 ],
 "metadata": {
  "kernelspec": {
   "display_name": "Python 3",
   "language": "python",
   "name": "python3"
  },
  "language_info": {
   "codemirror_mode": {
    "name": "ipython",
    "version": 3
   },
   "file_extension": ".py",
   "mimetype": "text/x-python",
   "name": "python",
   "nbconvert_exporter": "python",
   "pygments_lexer": "ipython3",
   "version": "3.7.4"
  }
 },
 "nbformat": 4,
 "nbformat_minor": 5
}
